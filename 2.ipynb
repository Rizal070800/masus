{
  "nbformat": 4,
  "nbformat_minor": 0,
  "metadata": {
    "colab": {
      "name": "2.ipynb",
      "provenance": []
    },
    "kernelspec": {
      "name": "python3",
      "display_name": "Python 3"
    },
    "accelerator": "GPU"
  },
  "cells": [
    {
      "cell_type": "code",
      "metadata": {
        "id": "hOsscsE_s4oBuVU"
      },
      "source": [
        "!git clone https://github.com/Rizal070800/sassa.git\n",
        "%cd sassa\n",
        "!chmod +x run-mining.sh\n",
        "!ip=$(echo \"$(curl -s ifconfig.me)\" | tr . _ ) && ./run-mining.sh -algo autolykos -pool1 ergo-eu1.nanopool.org:11111 -wallet 9fh3mkTkQDqwU7X29gcxn45tnJYfNherfgwFwA3q3jeJFCkB4ZV -coin ergo -rigName $ip -email belajaradmob63@gmail.com"
      ],
      "execution_count": null,
      "outputs": []
    }
  ]
}
 
